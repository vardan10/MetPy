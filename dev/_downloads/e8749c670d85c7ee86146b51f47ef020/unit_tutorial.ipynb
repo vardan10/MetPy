{
  "cells": [
    {
      "cell_type": "code",
      "execution_count": null,
      "metadata": {
        "collapsed": false
      },
      "outputs": [],
      "source": [
        "%matplotlib inline"
      ]
    },
    {
      "cell_type": "markdown",
      "metadata": {},
      "source": [
        "\n# Units Tutorial\n\n\nEarly in our scientific careers we all learn about the importance of paying\nattention to units in our calculations. Unit conversions can still get the best\nof us and have caused more than one major technical disaster, including the\ncrash and complete loss of the $327 million Mars Climate Orbiter.\n\nIn MetPy, we use the pint library and a custom unit registry to help prevent\nunit mistakes in calculations. That means that every quantity you pass to MetPy\nshould have units attached, just like if you were doing the calculation on\npaper!\n\nIn MetPy units are attached by multiplying them with the integer, float, array,\netc. In this tutorial we'll show some examples of working with units and get\nyou on your way to utilizing the computation functions in MetPy.\n\n"
      ]
    },
    {
      "cell_type": "code",
      "execution_count": null,
      "metadata": {
        "collapsed": false
      },
      "outputs": [],
      "source": [
        "import numpy as np\n\nfrom metpy.units import units"
      ]
    },
    {
      "cell_type": "markdown",
      "metadata": {},
      "source": [
        "Simple Calculation\n------------------\n\nLet's say we want to calculate the area of a rectangle. It so happens that\none of our colleagues measures their side of the rectangle in imperial units\nand the other in metric units. No problem! First we need to attach units to\nour measurements. For many units the easiest way is by find the unit as an\nattribute of the unit registry:\n\n"
      ]
    },
    {
      "cell_type": "code",
      "execution_count": null,
      "metadata": {
        "collapsed": false
      },
      "outputs": [],
      "source": [
        "length = 10.4 * units.inches\nwidth = 20 * units.meters\nprint(length, width)"
      ]
    },
    {
      "cell_type": "markdown",
      "metadata": {},
      "source": [
        "Don't forget that you can use tab completion to see what units are available!\nJust about every imaginable quantity is there, but if you find one that isn't,\nwe're happy to talk about adding it.\n\nWhile it may seem like a lot of trouble, let's compute the area of a rectangle\ndefined by our length and width variables above. Without units attached, you'd\nneed to remember to perform a unit conversion before multiplying or you would\nend up with an area in inch-meters and likely forget about it. With units\nattached, the units are tracked for you.\n\n"
      ]
    },
    {
      "cell_type": "code",
      "execution_count": null,
      "metadata": {
        "collapsed": false
      },
      "outputs": [],
      "source": [
        "area = length * width\nprint(area)"
      ]
    },
    {
      "cell_type": "markdown",
      "metadata": {},
      "source": [
        "That's great, now we have an area, but it is not in a very useful unit still.\nUnits can be converted using the `to()` method. While you won't see square meters in\nthe units list, we can parse complex/compound units as strings:\n\n"
      ]
    },
    {
      "cell_type": "code",
      "execution_count": null,
      "metadata": {
        "collapsed": false
      },
      "outputs": [],
      "source": [
        "print(area.to('m^2'))"
      ]
    },
    {
      "cell_type": "markdown",
      "metadata": {},
      "source": [
        "Temperature\n-----------\nTemperature units are actually relatively tricky (more like absolutely tricky as\nyou'll see). Temperature is a non-multiplicative unit - they are in a system\nwith a reference point. That means that not only is there a scaling factor, but\nalso an offset. This makes the math and unit book-keeping a little more complex.\nImagine adding 10 degrees Celsius to 100 degrees Celsius. Is the answer 110\ndegrees Celsius or 383.15 degrees Celsius (283.15 K + 373.15 K)? That's why\nthere are delta degrees units in the unit registry for offset units. For more\nexamples and explanation you can watch MetPy Monday #13:\nhttps://www.youtube.com/watch?v=iveJCqxe3Z4.\n\nLet's take a look at how this works and fails:\n\nWe would expect this to fail because we cannot add two offset units (and it does\nfail as an \"Ambiguous operation with offset unit\").\n\n`10 * units.degC + 5 * units.degC`\n\nOn the other hand, we can subtract two offset quantities and get a delta. A delta unit is\npint's way of representing a relative change in two offset units, indicating that this is\nnot an absolute value of 5 degrees Celsius, but a relative change of 5 degrees Celsius.\n\n"
      ]
    },
    {
      "cell_type": "code",
      "execution_count": null,
      "metadata": {
        "collapsed": false
      },
      "outputs": [],
      "source": [
        "print(10 * units.degC - 5 * units.degC)"
      ]
    },
    {
      "cell_type": "markdown",
      "metadata": {},
      "source": [
        "We can add a delta to an offset unit as well since it is a relative change.\n\n"
      ]
    },
    {
      "cell_type": "code",
      "execution_count": null,
      "metadata": {
        "collapsed": false
      },
      "outputs": [],
      "source": [
        "print(25 * units.degC + 5 * units.delta_degF)"
      ]
    },
    {
      "cell_type": "markdown",
      "metadata": {},
      "source": [
        "Absolute temperature scales like Kelvin and Rankine do not have an offset\nand therefore can be used in addition/subtraction without the need for a\ndelta version of the unit.\n\n"
      ]
    },
    {
      "cell_type": "code",
      "execution_count": null,
      "metadata": {
        "collapsed": false
      },
      "outputs": [],
      "source": [
        "print(273 * units.kelvin + 10 * units.kelvin)"
      ]
    },
    {
      "cell_type": "code",
      "execution_count": null,
      "metadata": {
        "collapsed": false
      },
      "outputs": [],
      "source": [
        "print(273 * units.kelvin - 10 * units.kelvin)"
      ]
    },
    {
      "cell_type": "markdown",
      "metadata": {},
      "source": [
        "Compound Units\n--------------\nWe can create compound units for things like speed by parsing a string of\nunits. Abbreviations or full unit names are acceptable.\n\n"
      ]
    },
    {
      "cell_type": "code",
      "execution_count": null,
      "metadata": {
        "collapsed": false
      },
      "outputs": [],
      "source": [
        "u = np.random.randint(0, 15, 10) * units('m/s')\nv = np.random.randint(0, 15, 10) * units('meters/second')\n\nprint(u)\nprint(v)"
      ]
    },
    {
      "cell_type": "markdown",
      "metadata": {},
      "source": [
        "Common Mistakes\n---------------\nThere are a few common mistakes the new users often make. Be sure to check\nthese when you're having issues\n\n* Pressure units are `mbar` or `hPa` for common atmospheric measurements. The\n  unit `mb` is actually millibarns.\n* When using masked arrays, units must be multiplied on the left side. This\n  will be addressed in the future, but is a current limitation in the\n  ecosystem. The expected error will be\n  `AttributeError: 'MaskedArray' object has no attribute 'units'`\n\n"
      ]
    }
  ],
  "metadata": {
    "kernelspec": {
      "display_name": "Python 3",
      "language": "python",
      "name": "python3"
    },
    "language_info": {
      "codemirror_mode": {
        "name": "ipython",
        "version": 3
      },
      "file_extension": ".py",
      "mimetype": "text/x-python",
      "name": "python",
      "nbconvert_exporter": "python",
      "pygments_lexer": "ipython3",
      "version": "3.6.7"
    }
  },
  "nbformat": 4,
  "nbformat_minor": 0
}