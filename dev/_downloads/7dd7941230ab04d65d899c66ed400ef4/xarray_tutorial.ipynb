{
  "cells": [
    {
      "cell_type": "code",
      "execution_count": null,
      "metadata": {
        "collapsed": false
      },
      "outputs": [],
      "source": [
        "%matplotlib inline"
      ]
    },
    {
      "cell_type": "markdown",
      "metadata": {},
      "source": [
        "\nxarray with MetPy Tutorial\n==========================\n\n`xarray <http://xarray.pydata.org/>`_ is a powerful Python package that provides N-dimensional\nlabeled arrays and datasets following the Common Data Model. While the process of integrating\nxarray features into MetPy is ongoing, this tutorial demonstrates how xarray can be used\nwithin the current version of MetPy. MetPy's integration primarily works through accessors\nwhich allow simplified projection handling and coordinate identification. Unit and calculation\nsupport is currently available in a limited fashion, but should be improved in future\nversions.\n\n"
      ]
    },
    {
      "cell_type": "code",
      "execution_count": null,
      "metadata": {
        "collapsed": false
      },
      "outputs": [],
      "source": [
        "import cartopy.crs as ccrs\nimport cartopy.feature as cfeature\nimport matplotlib.pyplot as plt\nimport xarray as xr\n\n# Any import of metpy will activate the accessors\nimport metpy.calc as mpcalc\nfrom metpy.testing import get_test_data"
      ]
    },
    {
      "cell_type": "markdown",
      "metadata": {},
      "source": [
        "Getting Data\n------------\n\nWhile xarray can handle a wide variety of n-dimensional data (essentially anything that can\nbe stored in a netCDF file), a common use case is working with model output. Such model\ndata can be obtained from a THREDDS Data Server using the siphon package, but for this\ntutorial, we will use an example subset of GFS data from Hurrican Irma (September 5th,\n2017).\n\n"
      ]
    },
    {
      "cell_type": "code",
      "execution_count": null,
      "metadata": {
        "collapsed": false
      },
      "outputs": [],
      "source": [
        "# Open the netCDF file as a xarray Dataset\ndata = xr.open_dataset(get_test_data('irma_gfs_example.nc', False))\n\n# View a summary of the Dataset\nprint(data)"
      ]
    },
    {
      "cell_type": "markdown",
      "metadata": {},
      "source": [
        "Preparing Data\n--------------\n\nTo make use of the data within MetPy, we need to parse the dataset for projection and\ncoordinate information following the CF conventions. For this, we use the\n``data.metpy.parse_cf()`` method, which will return a new, parsed ``DataArray`` or\n``Dataset``.\n\nAdditionally, we rename our data variables for easier reference.\n\n"
      ]
    },
    {
      "cell_type": "code",
      "execution_count": null,
      "metadata": {
        "collapsed": false
      },
      "outputs": [],
      "source": [
        "# To parse the full dataset, we can call parse_cf without an argument, and assign the returned\n# Dataset.\ndata = data.metpy.parse_cf()\n\n# If we instead want just a single variable, we can pass that variable name to parse_cf and\n# it will return just that data variable as a DataArray.\ndata_var = data.metpy.parse_cf('Temperature_isobaric')\n\n# To rename variables, supply a dictionary between old and new names to the rename method\ndata.rename({\n    'Vertical_velocity_pressure_isobaric': 'omega',\n    'Relative_humidity_isobaric': 'relative_humidity',\n    'Temperature_isobaric': 'temperature',\n    'u-component_of_wind_isobaric': 'u',\n    'v-component_of_wind_isobaric': 'v',\n    'Geopotential_height_isobaric': 'height'\n}, inplace=True)"
      ]
    },
    {
      "cell_type": "markdown",
      "metadata": {},
      "source": [
        "Units\n-----\n\nMetPy's DataArray accessor has a ``unit_array`` property to obtain a ``pint.Quantity`` array\nof just the data from the DataArray (metadata is removed) and a ``convert_units`` method to\nconvert the the data from one unit to another (keeping it as a DataArray). For now, we'll\njust use ``convert_units`` to convert our pressure coordinates to ``hPa``.\n\n"
      ]
    },
    {
      "cell_type": "code",
      "execution_count": null,
      "metadata": {
        "collapsed": false
      },
      "outputs": [],
      "source": [
        "data['isobaric1'].metpy.convert_units('hPa')\ndata['isobaric3'].metpy.convert_units('hPa')"
      ]
    },
    {
      "cell_type": "markdown",
      "metadata": {},
      "source": [
        "Coordinates\n-----------\n\nYou may have noticed how we directly accessed the vertical coordinates above using their\nnames. However, in general, if we are working with a particular DataArray, we don't have to\nworry about that since MetPy is able to parse the coordinates and so obtain a particular\ncoordinate type directly. There are two ways to do this:\n\n1. Use the ``data_var.metpy.coordinates`` method\n2. Use the ``data_var.metpy.x``, ``data_var.metpy.y``, ``data_var.metpy.vertical``,\n   ``data_var.metpy.time`` properties\n\nThe valid coordinate types are:\n\n- x\n- y\n- vertical\n- time\n\n(Both approaches and all four types are shown below)\n\n"
      ]
    },
    {
      "cell_type": "code",
      "execution_count": null,
      "metadata": {
        "collapsed": false
      },
      "outputs": [],
      "source": [
        "# Get multiple coordinates (for example, in just the x and y direction)\nx, y = data['temperature'].metpy.coordinates('x', 'y')\n\n# If we want to get just a single coordinate from the coordinates method, we have to use\n# tuple unpacking because the coordinates method returns a generator\nvertical, = data['temperature'].metpy.coordinates('vertical')\n\n# Or, we can just get a coordinate from the property\ntime = data['temperature'].metpy.time\n\n# To verify, we can inspect all their names\nprint([coord.name for coord in (x, y, vertical, time)])"
      ]
    },
    {
      "cell_type": "markdown",
      "metadata": {},
      "source": [
        "Projections\n-----------\n\nGetting the cartopy coordinate reference system (CRS) of the projection of a DataArray is as\nstraightforward as using the ``data_var.metpy.cartopy_crs`` property:\n\n"
      ]
    },
    {
      "cell_type": "code",
      "execution_count": null,
      "metadata": {
        "collapsed": false
      },
      "outputs": [],
      "source": [
        "data_crs = data['temperature'].metpy.cartopy_crs\nprint(data_crs)"
      ]
    },
    {
      "cell_type": "markdown",
      "metadata": {},
      "source": [
        "The cartopy ``Globe`` can similarly be accessed via the ``data_var.metpy.cartopy_globe``\nproperty:\n\n"
      ]
    },
    {
      "cell_type": "code",
      "execution_count": null,
      "metadata": {
        "collapsed": false
      },
      "outputs": [],
      "source": [
        "data_globe = data['temperature'].metpy.cartopy_globe\nprint(data_globe)"
      ]
    },
    {
      "cell_type": "markdown",
      "metadata": {},
      "source": [
        "Calculations\n------------\n\nMost of the calculations in `metpy.calc` will accept DataArrays by converting them\ninto their corresponding unit arrays. While this may often work without any issues, we must\nkeep in mind that because the calculations are working with unit arrays and not DataArrays:\n\n- The calculations will return unit arrays rather than DataArrays\n- Broadcasting must be taken care of outside of the calculation, as it would only recognize\n  dimensions by order, not name\n\nAs an example, we calculate geostropic wind at 500 hPa below:\n\n"
      ]
    },
    {
      "cell_type": "code",
      "execution_count": null,
      "metadata": {
        "collapsed": false
      },
      "outputs": [],
      "source": [
        "lat, lon = xr.broadcast(y, x)\nf = mpcalc.coriolis_parameter(lat)\ndx, dy = mpcalc.lat_lon_grid_deltas(lon, lat, initstring=data_crs.proj4_init)\nheights = data['height'].loc[time[0]].loc[{vertical.name: 500.}]\nu_geo, v_geo = mpcalc.geostrophic_wind(heights, f, dx, dy)\nprint(u_geo)\nprint(v_geo)"
      ]
    },
    {
      "cell_type": "markdown",
      "metadata": {},
      "source": [
        "Also, a limited number of calculations directly support xarray DataArrays or Datasets (they\ncan accept *and* return xarray objects). Right now, this includes\n\n- Derivative functions\n    - ``first_derivative``\n    - ``second_derivative``\n    - ``gradient``\n    - ``laplacian``\n- Cross-section functions\n    - ``cross_section_components``\n    - ``normal_component``\n    - ``tangential_component``\n    - ``absolute_momentum``\n\nMore details can be found by looking at the documentation for the specific function of\ninterest.\n\n"
      ]
    },
    {
      "cell_type": "markdown",
      "metadata": {},
      "source": [
        "There is also the special case of the helper function, ``grid_deltas_from_dataarray``, which\ntakes a ``DataArray`` input, but returns unit arrays for use in other calculations. We could\nrewrite the above geostrophic wind example using this helper function as follows:\n\n"
      ]
    },
    {
      "cell_type": "code",
      "execution_count": null,
      "metadata": {
        "collapsed": false
      },
      "outputs": [],
      "source": [
        "heights = data['height'].loc[time[0]].loc[{vertical.name: 500.}]\nlat, lon = xr.broadcast(y, x)\nf = mpcalc.coriolis_parameter(lat)\ndx, dy = mpcalc.grid_deltas_from_dataarray(heights)\nu_geo, v_geo = mpcalc.geostrophic_wind(heights, f, dx, dy)\nprint(u_geo)\nprint(v_geo)"
      ]
    },
    {
      "cell_type": "markdown",
      "metadata": {},
      "source": [
        "Plotting\n--------\n\nLike most meteorological data, we want to be able to plot these data. DataArrays can be used\nlike normal numpy arrays in plotting code, which is the recommended process at the current\npoint in time, or we can use some of xarray's plotting functionality for quick inspection of\nthe data.\n\n(More detail beyond the following can be found at `xarray's plotting reference\n<http://xarray.pydata.org/en/stable/plotting.html>`_.)\n\n"
      ]
    },
    {
      "cell_type": "code",
      "execution_count": null,
      "metadata": {
        "collapsed": false
      },
      "outputs": [],
      "source": [
        "# A very simple example example of a plot of 500 hPa heights\ndata['height'].loc[time[0]].loc[{vertical.name: 500.}].plot()\nplt.show()"
      ]
    },
    {
      "cell_type": "code",
      "execution_count": null,
      "metadata": {
        "collapsed": false
      },
      "outputs": [],
      "source": [
        "# Let's add a projection and coastlines to it\nax = plt.axes(projection=ccrs.LambertConformal())\ndata['height'].loc[time[0]].loc[{vertical.name: 500.}].plot(ax=ax, transform=data_crs)\nax.coastlines()\nplt.show()"
      ]
    },
    {
      "cell_type": "code",
      "execution_count": null,
      "metadata": {
        "collapsed": false
      },
      "outputs": [],
      "source": [
        "# Or, let's make a full 500 hPa map with heights, temperature, winds, and humidity\n\n# Select the data for this time and level\ndata_level = data.loc[{vertical.name: 500., time.name: time[0]}]\n\n# Create the matplotlib figure and axis\nfig, ax = plt.subplots(1, 1, figsize=(12, 8), subplot_kw={'projection': data_crs})\n\n# Plot RH as filled contours\nrh = ax.contourf(x, y, data_level['relative_humidity'], levels=[70, 80, 90, 100],\n                 colors=['#99ff00', '#00ff00', '#00cc00'])\n\n# Plot wind barbs, but not all of them\nwind_slice = slice(5, -5, 5)\nax.barbs(x[wind_slice], y[wind_slice],\n         data_level['u'].metpy.unit_array[wind_slice, wind_slice].to('knots'),\n         data_level['v'].metpy.unit_array[wind_slice, wind_slice].to('knots'),\n         length=6)\n\n# Plot heights and temperature as contours\nh_contour = ax.contour(x, y, data_level['height'], colors='k', levels=range(5400, 6000, 60))\nh_contour.clabel(fontsize=8, colors='k', inline=1, inline_spacing=8,\n                 fmt='%i', rightside_up=True, use_clabeltext=True)\nt_contour = ax.contour(x, y, data_level['temperature'], colors='xkcd:deep blue',\n                       levels=range(248, 276, 2), alpha=0.8, linestyles='--')\nt_contour.clabel(fontsize=8, colors='xkcd:deep blue', inline=1, inline_spacing=8,\n                 fmt='%i', rightside_up=True, use_clabeltext=True)\n\n# Add geographic features\nax.add_feature(cfeature.LAND.with_scale('50m'), facecolor=cfeature.COLORS['land'])\nax.add_feature(cfeature.OCEAN.with_scale('50m'), facecolor=cfeature.COLORS['water'])\nax.add_feature(cfeature.STATES.with_scale('50m'), edgecolor='#c7c783', zorder=0)\nax.add_feature(cfeature.LAKES.with_scale('50m'), facecolor=cfeature.COLORS['water'],\n               edgecolor='#c7c783', zorder=0)\n\n# Set a title and show the plot\nax.set_title('500 hPa Heights (m), Temperature (K), Humidity (%) at '\n             + time[0].dt.strftime('%Y-%m-%d %H:%MZ'))\nplt.show()"
      ]
    },
    {
      "cell_type": "markdown",
      "metadata": {},
      "source": [
        "What Could Go Wrong?\n--------------------\n\nDepending on your dataset and what you are trying to do, you might run into problems with\nxarray and MetPy. Below are examples of some of the most common issues\n\n- ``parse_cf`` not able to parse due to conflict\n- An axis not being available\n- An axis not being interpretable\n- Arrays not broadcasting in calculations\n\n**Coordinate Conflict**\n\nCode:\n\n::\n\n    temperature = data.metpy.parse_cf('Temperature')\n\nError Message:\n\n::\n\n    /home/user/env/MetPy/metpy/xarray.py:305: UserWarning: DataArray\n    of requested variable has more than one x coordinate. Specify the\n    unique axes using the coordinates argument.\n\nFix:\n\nSpecify the ``coordinates`` argument to the ``parse_cf`` method to map the ``T`` (time),\n``Z`` (vertical), ``Y``, and ``X`` axes (as applicable to your dataset) to the corresponding\ncoordinates.\n\n::\n\n    temperature = data.metpy.parse_cf('Temperature',\n                                      coordinates={'T': 'time', 'Z': 'isobaric',\n                                                   'Y': 'y', 'X': 'x'})\n\n**Axis Unavailable**\n\nCode:\n\n::\n\n    data['Temperature'].metpy.vertical\n\nError Message:\n\n::\n\n    AttributeError: vertical attribute is not available.\n\nThis means that your data variable does not have the coordinate that was requested, at\nleast as far as the parser can recognize. Verify that you are requesting a\ncoordinate that your data actually has, and if it still is not available,\nyou will need to manually specify the coordinates via the coordinates argument\ndiscussed above.\n\n**Axis Not Interpretable**\n\nCode:\n\n::\n\n    x, y, ensemble = data['Temperature'].metpy.coordinates('x', 'y', 'ensemble')\n\nError Message:\n\n::\n\n    AttributeError: 'ensemble' is not an interpretable axis\n\nThis means that you are requesting a coordinate that MetPy is (currently) unable to parse.\nWhile this means it cannot be recognized automatically, you can still obtain your desired\ncoordinate directly by accessing it by name. If you have a need for systematic\nidentification of a new coordinate type, we welcome pull requests for such new functionality\non GitHub!\n\n**Broadcasting in Calculations**\n\nCode:\n\n::\n\n    theta = mpcalc.potential_temperature(data['isobaric3'], data['temperature'])\n\nError Message:\n\n::\n\n    ValueError: operands could not be broadcast together with shapes (9,31,81,131) (31,)\n\nThis is a symptom of the incomplete integration of xarray with MetPy's calculations; the\ncalculations currently convert the DataArrays to unit arrays that do not recognize which\ncoordinates match with which. And so, we must do some manipulations.\n\nFix 1 (xarray broadcasting):\n\n::\n\n    pressure, temperature = xr.broadcast(data['isobaric3'], data['temperature'])\n    theta = mpcalc.potential_temperature(pressure, temperature)\n\nFix 2 (unit array broadcasting):\n\n::\n\n    theta = mpcalc.potential_temperature(\n        data['isobaric3'].metpy.unit_array[None, :, None, None],\n        data['temperature'].metpy.unit_array\n    )\n\n\n"
      ]
    }
  ],
  "metadata": {
    "kernelspec": {
      "display_name": "Python 3",
      "language": "python",
      "name": "python3"
    },
    "language_info": {
      "codemirror_mode": {
        "name": "ipython",
        "version": 3
      },
      "file_extension": ".py",
      "mimetype": "text/x-python",
      "name": "python",
      "nbconvert_exporter": "python",
      "pygments_lexer": "ipython3",
      "version": "3.6.7"
    }
  },
  "nbformat": 4,
  "nbformat_minor": 0
}